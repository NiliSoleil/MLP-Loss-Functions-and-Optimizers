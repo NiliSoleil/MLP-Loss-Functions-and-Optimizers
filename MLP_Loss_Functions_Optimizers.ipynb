{
  "nbformat": 4,
  "nbformat_minor": 0,
  "metadata": {
    "colab": {
      "provenance": [],
      "collapsed_sections": [
        "fQFlVvECeZsD",
        "OsNaqujTeiGx",
        "3kNFvE61Q7sC",
        "_RlAcfkrvBDn",
        "5qOD027He6RR",
        "Fy195c8EfWDJ",
        "-NBcJXJkfgUI",
        "DY5JMY1Yftsr",
        "xFbRtOqLfnh6",
        "f5iDi4F4Cpws",
        "fe37DYQpCsdN",
        "f_KWZJcuCutZ",
        "jzIjcI6JCxXJ",
        "8dejGbh1C1zJ",
        "MRCNTnJuC9pV",
        "b39HneYjC_-l",
        "wL8bgTj3DBat",
        "v6RU2J3MDDF9",
        "4AlUHz4yDFTO",
        "mbpEEA0g1-Be",
        "SMlnazVEN50z",
        "Chajg8gmDnHh",
        "QUMvtEvmEgMU",
        "T3Dx-IT0E8ev"
      ],
      "include_colab_link": true
    },
    "kernelspec": {
      "name": "python3",
      "display_name": "Python 3"
    },
    "language_info": {
      "name": "python"
    },
    "accelerator": "GPU",
    "gpuClass": "standard"
  },
  "cells": [
    {
      "cell_type": "markdown",
      "metadata": {
        "id": "view-in-github",
        "colab_type": "text"
      },
      "source": [
        "<a href=\"https://colab.research.google.com/github/NiliSoleil/MLP-Loss-Functions-and-Optimizers/blob/main/MLP_Loss_Functions_Optimizers.ipynb\" target=\"_parent\"><img src=\"https://colab.research.google.com/assets/colab-badge.svg\" alt=\"Open In Colab\"/></a>"
      ]
    },
    {
      "cell_type": "markdown",
      "source": [
        "# **Imports 📢**"
      ],
      "metadata": {
        "id": "fQFlVvECeZsD"
      }
    },
    {
      "cell_type": "code",
      "execution_count": null,
      "metadata": {
        "colab": {
          "base_uri": "https://localhost:8080/"
        },
        "id": "KQ4DITKaqbZT",
        "outputId": "29362307-aece-482a-e771-6f06cacb84b6"
      },
      "outputs": [
        {
          "output_type": "stream",
          "name": "stdout",
          "text": [
            "Mounted at /content/drive\n"
          ]
        }
      ],
      "source": [
        "from google.colab import drive\n",
        "drive.mount('/content/drive')"
      ]
    },
    {
      "cell_type": "code",
      "source": [
        "!pip install torchmetrics"
      ],
      "metadata": {
        "id": "dQ9OIgAs4iWa",
        "colab": {
          "base_uri": "https://localhost:8080/"
        },
        "outputId": "7d3e7641-41df-4894-e5c9-28e550f8e845"
      },
      "execution_count": null,
      "outputs": [
        {
          "output_type": "stream",
          "name": "stdout",
          "text": [
            "Collecting torchmetrics\n",
            "  Downloading torchmetrics-1.3.1-py3-none-any.whl (840 kB)\n",
            "\u001b[2K     \u001b[90m━━━━━━━━━━━━━━━━━━━━━━━━━━━━━━━━━━━━━━━━\u001b[0m \u001b[32m840.4/840.4 kB\u001b[0m \u001b[31m10.6 MB/s\u001b[0m eta \u001b[36m0:00:00\u001b[0m\n",
            "\u001b[?25hRequirement already satisfied: numpy>1.20.0 in /usr/local/lib/python3.10/dist-packages (from torchmetrics) (1.25.2)\n",
            "Requirement already satisfied: packaging>17.1 in /usr/local/lib/python3.10/dist-packages (from torchmetrics) (23.2)\n",
            "Requirement already satisfied: torch>=1.10.0 in /usr/local/lib/python3.10/dist-packages (from torchmetrics) (2.1.0+cu121)\n",
            "Collecting lightning-utilities>=0.8.0 (from torchmetrics)\n",
            "  Downloading lightning_utilities-0.10.1-py3-none-any.whl (24 kB)\n",
            "Requirement already satisfied: setuptools in /usr/local/lib/python3.10/dist-packages (from lightning-utilities>=0.8.0->torchmetrics) (67.7.2)\n",
            "Requirement already satisfied: typing-extensions in /usr/local/lib/python3.10/dist-packages (from lightning-utilities>=0.8.0->torchmetrics) (4.10.0)\n",
            "Requirement already satisfied: filelock in /usr/local/lib/python3.10/dist-packages (from torch>=1.10.0->torchmetrics) (3.13.1)\n",
            "Requirement already satisfied: sympy in /usr/local/lib/python3.10/dist-packages (from torch>=1.10.0->torchmetrics) (1.12)\n",
            "Requirement already satisfied: networkx in /usr/local/lib/python3.10/dist-packages (from torch>=1.10.0->torchmetrics) (3.2.1)\n",
            "Requirement already satisfied: jinja2 in /usr/local/lib/python3.10/dist-packages (from torch>=1.10.0->torchmetrics) (3.1.3)\n",
            "Requirement already satisfied: fsspec in /usr/local/lib/python3.10/dist-packages (from torch>=1.10.0->torchmetrics) (2023.6.0)\n",
            "Requirement already satisfied: triton==2.1.0 in /usr/local/lib/python3.10/dist-packages (from torch>=1.10.0->torchmetrics) (2.1.0)\n",
            "Requirement already satisfied: MarkupSafe>=2.0 in /usr/local/lib/python3.10/dist-packages (from jinja2->torch>=1.10.0->torchmetrics) (2.1.5)\n",
            "Requirement already satisfied: mpmath>=0.19 in /usr/local/lib/python3.10/dist-packages (from sympy->torch>=1.10.0->torchmetrics) (1.3.0)\n",
            "Installing collected packages: lightning-utilities, torchmetrics\n",
            "Successfully installed lightning-utilities-0.10.1 torchmetrics-1.3.1\n"
          ]
        }
      ]
    },
    {
      "cell_type": "code",
      "execution_count": null,
      "metadata": {
        "id": "8tuq5ncaiRJz"
      },
      "outputs": [],
      "source": [
        "import torch\n",
        "import torch.nn as nn\n",
        "import torch.optim as optim\n",
        "from torch.utils.data import TensorDataset, DataLoader, random_split\n",
        "\n",
        "import pandas as pd\n",
        "import matplotlib.pyplot as plt\n",
        "from sklearn.model_selection import train_test_split\n",
        "from torchmetrics import Accuracy\n",
        "from sklearn.metrics import r2_score"
      ]
    },
    {
      "cell_type": "markdown",
      "source": [
        "# **Dataset 🗂️**"
      ],
      "metadata": {
        "id": "OsNaqujTeiGx"
      }
    },
    {
      "cell_type": "markdown",
      "source": [
        "## Read Dataset"
      ],
      "metadata": {
        "id": "3kNFvE61Q7sC"
      }
    },
    {
      "cell_type": "code",
      "source": [
        "# !cp your_address /content/\n",
        "\n",
        "!unzip /content/data.zip"
      ],
      "metadata": {
        "id": "b6VI5hKSTU_L",
        "colab": {
          "base_uri": "https://localhost:8080/"
        },
        "outputId": "b1701114-45ab-4462-bb60-1e9f6c3d83a6"
      },
      "execution_count": null,
      "outputs": [
        {
          "output_type": "stream",
          "name": "stdout",
          "text": [
            "Archive:  /content/data.zip\n",
            "  inflating: housing.csv             \n"
          ]
        }
      ]
    },
    {
      "cell_type": "code",
      "source": [
        "housing_dataset = pd.read_csv(\"/content/housing.csv\")\n",
        "#print(housing_dataset.isnull())\n",
        "\n",
        "# Replace the missing values for total_bedrooms column with mean\n",
        "housing_dataset['total_bedrooms'] = housing_dataset['total_bedrooms'].fillna(housing_dataset['total_bedrooms'].mean())\n",
        "## or you can use:\n",
        "# housing_dataset.dropna(subset=['total_bedrooms'], inplace=True)  # Drop 207 NaNs for simplicity\n",
        "X = housing_dataset.drop(['ocean_proximity', 'median_house_value'], axis=1).values\n",
        "y = housing_dataset['median_house_value'].values\n",
        "\n",
        "print(X.shape)"
      ],
      "metadata": {
        "id": "rhv0ZRi_ec_K",
        "colab": {
          "base_uri": "https://localhost:8080/"
        },
        "outputId": "908dea4a-4906-4742-d14b-5d9b57a60371"
      },
      "execution_count": null,
      "outputs": [
        {
          "output_type": "stream",
          "name": "stdout",
          "text": [
            "(20640, 8)\n"
          ]
        }
      ]
    },
    {
      "cell_type": "markdown",
      "source": [
        "## Split"
      ],
      "metadata": {
        "id": "_RlAcfkrvBDn"
      }
    },
    {
      "cell_type": "code",
      "source": [
        "train_ratio = 0.70\n",
        "validation_ratio = 0.20\n",
        "test_ratio = 0.10\n",
        "\n",
        "X_train, X_test, y_train, y_test = train_test_split(X, y, train_size=train_ratio, random_state=42)\n",
        "X_valid, X_test, y_valid, y_test = train_test_split(X_test, y_test, test_size=test_ratio/(test_ratio + validation_ratio), random_state=42)\n",
        "\n",
        "# print(f\"X_train shape: {X_train.shape}\")\n",
        "# print(f\"X_valid shape: {X_valid.shape}\")\n",
        "# print(f\"X_test shape: {X_test.shape}\")"
      ],
      "metadata": {
        "id": "ml1npqT8yzrO"
      },
      "execution_count": null,
      "outputs": []
    },
    {
      "cell_type": "markdown",
      "source": [
        "## Preprocess"
      ],
      "metadata": {
        "id": "5qOD027He6RR"
      }
    },
    {
      "cell_type": "code",
      "source": [
        "# Convert to tensor\n",
        "X_train = torch.FloatTensor(X_train)\n",
        "y_train = torch.FloatTensor(y_train)\n",
        "\n",
        "X_valid = torch.FloatTensor(X_valid)\n",
        "y_valid = torch.FloatTensor(y_valid)\n",
        "\n",
        "X_test = torch.FloatTensor(X_test)\n",
        "y_test = torch.FloatTensor(y_test)\n",
        "\n",
        "# Standardization\n",
        "mu_x = torch.mean(X_train, dim=0)\n",
        "std_x = torch.std(X_train, dim=0)\n",
        "\n",
        "mu_y = torch.mean(y_train, dim=0)\n",
        "std_y = torch.std(y_train, dim=0)\n",
        "\n",
        "X_train = (X_train - mu_x) / std_x\n",
        "X_valid = (X_valid - mu_x) / std_x\n",
        "X_test = (X_test - mu_x) / std_x\n",
        "\n",
        "y_train = (y_train - mu_y) / std_y\n",
        "y_valid = (y_valid - mu_y) / std_y\n",
        "y_test = (y_test - mu_y) / std_y"
      ],
      "metadata": {
        "id": "w7hFEHNGe91D"
      },
      "execution_count": null,
      "outputs": []
    },
    {
      "cell_type": "markdown",
      "source": [
        "## Dataloader"
      ],
      "metadata": {
        "id": "Fy195c8EfWDJ"
      }
    },
    {
      "cell_type": "code",
      "source": [
        "train_dataset = TensorDataset(X_train, y_train)\n",
        "train_loader = DataLoader(train_dataset, batch_size=128, shuffle=True)\n",
        "\n",
        "valid_dataset = TensorDataset(X_valid, y_valid)\n",
        "valid_loader = DataLoader(valid_dataset, batch_size=256)\n",
        "\n",
        "test_dataset = TensorDataset(X_test, y_test)\n",
        "test_loader = DataLoader(test_dataset, batch_size=256)"
      ],
      "metadata": {
        "id": "ZSSRbHM0fT-A"
      },
      "execution_count": null,
      "outputs": []
    },
    {
      "cell_type": "markdown",
      "source": [
        "# **Model 🧠**"
      ],
      "metadata": {
        "id": "-NBcJXJkfgUI"
      }
    },
    {
      "cell_type": "code",
      "source": [
        "in_features = 8\n",
        "out_features = 1\n",
        "h1 = 64\n",
        "h2 = 32\n",
        "\n",
        "model = nn.Sequential(nn.Linear(in_features, h1),\n",
        "                      nn.ReLU(),\n",
        "                      nn.Linear(h1, h2),\n",
        "                      nn.ReLU(),\n",
        "                      nn.Linear(h2, out_features))\n",
        "\n",
        "model"
      ],
      "metadata": {
        "id": "2b9Po2RYfi8C",
        "colab": {
          "base_uri": "https://localhost:8080/"
        },
        "outputId": "60051a87-ed12-4f15-811a-9c8c9dcbaf94"
      },
      "execution_count": null,
      "outputs": [
        {
          "output_type": "execute_result",
          "data": {
            "text/plain": [
              "Sequential(\n",
              "  (0): Linear(in_features=8, out_features=64, bias=True)\n",
              "  (1): ReLU()\n",
              "  (2): Linear(in_features=64, out_features=32, bias=True)\n",
              "  (3): ReLU()\n",
              "  (4): Linear(in_features=32, out_features=1, bias=True)\n",
              ")"
            ]
          },
          "metadata": {},
          "execution_count": 62
        }
      ]
    },
    {
      "cell_type": "markdown",
      "source": [
        "# **Device ⚙️**"
      ],
      "metadata": {
        "id": "DY5JMY1Yftsr"
      }
    },
    {
      "cell_type": "code",
      "source": [
        "device = 'cuda' if torch.cuda.is_available() else 'cpu'\n",
        "model = model.to(device)\n",
        "\n",
        "print(torch.cuda.get_device_name())"
      ],
      "metadata": {
        "id": "Ce6_MpTcfrGi",
        "colab": {
          "base_uri": "https://localhost:8080/"
        },
        "outputId": "2906e0a6-93df-48be-d1f4-f90e8a201921"
      },
      "execution_count": null,
      "outputs": [
        {
          "output_type": "stream",
          "name": "stdout",
          "text": [
            "Tesla T4\n"
          ]
        }
      ]
    },
    {
      "cell_type": "markdown",
      "source": [
        "# **Loss ⚖️**"
      ],
      "metadata": {
        "id": "xFbRtOqLfnh6"
      }
    },
    {
      "cell_type": "markdown",
      "source": [
        "## MSELoss"
      ],
      "metadata": {
        "id": "f5iDi4F4Cpws"
      }
    },
    {
      "cell_type": "code",
      "source": [
        "loss_fn = nn.MSELoss()"
      ],
      "metadata": {
        "id": "EpzTOAOafj8e"
      },
      "execution_count": null,
      "outputs": []
    },
    {
      "cell_type": "markdown",
      "source": [
        "## N1Loss"
      ],
      "metadata": {
        "id": "fe37DYQpCsdN"
      }
    },
    {
      "cell_type": "code",
      "source": [
        "loss_fn = nn.L1Loss()"
      ],
      "metadata": {
        "id": "leQ98J7QCudD"
      },
      "execution_count": null,
      "outputs": []
    },
    {
      "cell_type": "markdown",
      "source": [
        "## HuberLoss"
      ],
      "metadata": {
        "id": "f_KWZJcuCutZ"
      }
    },
    {
      "cell_type": "code",
      "source": [
        "loss_fn = nn.HuberLoss()"
      ],
      "metadata": {
        "id": "miuBLGDLCxAh"
      },
      "execution_count": null,
      "outputs": []
    },
    {
      "cell_type": "markdown",
      "source": [
        "## AdaptiveLoss"
      ],
      "metadata": {
        "id": "jzIjcI6JCxXJ"
      }
    },
    {
      "cell_type": "code",
      "source": [
        "def loss_fn(outputs, targets, c=1., alpha=1.):\n",
        "\n",
        "  if alpha == 2:\n",
        "    loss = 1 / 2 * torch.pow((outputs - targets) / c, 2)\n",
        "    return torch.mean(loss)\n",
        "\n",
        "  elif alpha == 0:\n",
        "    loss = torch.log(1 / 2 * torch.pow((outputs - targets) / c, 2) + 1)\n",
        "    return torch.mean(loss)\n",
        "\n",
        "  elif alpha == -torch.inf:\n",
        "    loss = 1 - torch.exp(-1 / 2 * torch.pow((outputs - targets) / c, 2))\n",
        "    return torch.mean(loss)\n",
        "\n",
        "  else:\n",
        "    loss =  (abs(alpha - 2) / alpha) * (torch.pow(torch.pow((outputs - targets) / c, 2)/abs(alpha - 2) + 1, alpha/2) - 1)\n",
        "    return torch.mean(loss)"
      ],
      "metadata": {
        "id": "pfWdNFn8CzBp"
      },
      "execution_count": null,
      "outputs": []
    },
    {
      "cell_type": "markdown",
      "source": [
        "# **Optimizer📻**"
      ],
      "metadata": {
        "id": "8dejGbh1C1zJ"
      }
    },
    {
      "cell_type": "markdown",
      "source": [
        "## Adam"
      ],
      "metadata": {
        "id": "MRCNTnJuC9pV"
      }
    },
    {
      "cell_type": "code",
      "source": [
        "optimizer = torch.optim.Adam(model.parameters(), lr=0.001)"
      ],
      "metadata": {
        "id": "IMeNToPhC_sG"
      },
      "execution_count": null,
      "outputs": []
    },
    {
      "cell_type": "markdown",
      "source": [
        "## SGD"
      ],
      "metadata": {
        "id": "b39HneYjC_-l"
      }
    },
    {
      "cell_type": "code",
      "source": [
        "optimizer = torch.optim.SGD(model.parameters(), lr=0.001)"
      ],
      "metadata": {
        "id": "uc9TWmYsDBKl"
      },
      "execution_count": null,
      "outputs": []
    },
    {
      "cell_type": "markdown",
      "source": [
        "## SGD_M"
      ],
      "metadata": {
        "id": "wL8bgTj3DBat"
      }
    },
    {
      "cell_type": "code",
      "source": [
        "optimizer = torch.optim.SGD(model.parameters(), lr=0.001, momentum=0.9)"
      ],
      "metadata": {
        "id": "7rIcyqUBDC3u"
      },
      "execution_count": null,
      "outputs": []
    },
    {
      "cell_type": "markdown",
      "source": [
        "## SGD_Nest"
      ],
      "metadata": {
        "id": "v6RU2J3MDDF9"
      }
    },
    {
      "cell_type": "code",
      "source": [
        "optimizer = torch.optim.SGD(model.parameters(), lr=0.001, momentum=0.9, nesterov=True)"
      ],
      "metadata": {
        "id": "Iotc8U7LDFG1"
      },
      "execution_count": null,
      "outputs": []
    },
    {
      "cell_type": "markdown",
      "source": [
        "## rmsprop"
      ],
      "metadata": {
        "id": "4AlUHz4yDFTO"
      }
    },
    {
      "cell_type": "code",
      "source": [
        "optimizer = torch.optim.RMSprop(model.parameters(), lr=0.001, alpha=0.99)"
      ],
      "metadata": {
        "id": "crZOA7kXDHXt"
      },
      "execution_count": null,
      "outputs": []
    },
    {
      "cell_type": "markdown",
      "source": [
        "# **Utils 🧰**"
      ],
      "metadata": {
        "id": "mbpEEA0g1-Be"
      }
    },
    {
      "cell_type": "code",
      "source": [
        "class AverageMeter(object):\n",
        "    \"\"\"Computes and stores the average and current value\"\"\"\n",
        "    def __init__(self):\n",
        "        self.reset()\n",
        "\n",
        "    def reset(self):\n",
        "        self.val = 0\n",
        "        self.avg = 0\n",
        "        self.sum = 0\n",
        "        self.count = 0\n",
        "\n",
        "    def update(self, val, n=1):\n",
        "        self.val = val\n",
        "        self.sum += val * n\n",
        "        self.count += n\n",
        "        self.avg = self.sum / self.count"
      ],
      "metadata": {
        "id": "G6s889_UrqDT"
      },
      "execution_count": null,
      "outputs": []
    },
    {
      "cell_type": "markdown",
      "source": [
        "# **Train Loop👨🏼‍🏫**"
      ],
      "metadata": {
        "id": "SMlnazVEN50z"
      }
    },
    {
      "cell_type": "code",
      "source": [
        "loss_train_hist = []\n",
        "loss_valid_hist = []\n",
        "\n",
        "num_epochs = 300\n",
        "\n",
        "for epoch in range(num_epochs):\n",
        "  # Train\n",
        "  model.train()\n",
        "  loss_train = AverageMeter()\n",
        "  for i, (inputs, targets) in enumerate(train_loader):\n",
        "    inputs = inputs.to(device)\n",
        "    targets = targets.to(device)\n",
        "\n",
        "    outputs = model(inputs)\n",
        "    loss = loss_fn(outputs.squeeze(), targets)\n",
        "\n",
        "    loss.backward()\n",
        "    optimizer.step()\n",
        "    optimizer.zero_grad()\n",
        "\n",
        "    loss_train.update(loss.item())\n",
        "\n",
        "  loss_train_hist.append(loss_train.avg)\n",
        "\n",
        "  # Validation\n",
        "  model.eval()\n",
        "  loss_valid = AverageMeter()\n",
        "  with torch.no_grad():\n",
        "    for i, (inputs, targets) in enumerate(valid_loader):\n",
        "      inputs = inputs.to(device)\n",
        "      targets = targets.to(device)\n",
        "\n",
        "      outputs = model(inputs)\n",
        "\n",
        "      loss = loss_fn(outputs.squeeze(), targets)\n",
        "\n",
        "      loss_valid.update(loss.item())\n",
        "\n",
        "    loss_valid_hist.append(loss_valid.avg)\n",
        "\n",
        "  if epoch % 10 == 0:\n",
        "    print(f'Epoch {epoch}')\n",
        "    print(f'Train: Loss = {loss_train.avg:.4}')\n",
        "    print(f'Valid: Loss = {loss_valid.avg:.4}')\n",
        "    print()"
      ],
      "metadata": {
        "id": "3Xj6jXkuN4rd",
        "colab": {
          "base_uri": "https://localhost:8080/"
        },
        "outputId": "911928b1-882f-43bc-b733-623d4a73e242"
      },
      "execution_count": null,
      "outputs": [
        {
          "output_type": "stream",
          "name": "stdout",
          "text": [
            "Epoch 0\n",
            "Train: Loss = 0.1443\n",
            "Valid: Loss = 0.131\n",
            "\n",
            "Epoch 10\n",
            "Train: Loss = 0.0989\n",
            "Valid: Loss = 0.1095\n",
            "\n",
            "Epoch 20\n",
            "Train: Loss = 0.0908\n",
            "Valid: Loss = 0.1026\n",
            "\n",
            "Epoch 30\n",
            "Train: Loss = 0.08651\n",
            "Valid: Loss = 0.0961\n",
            "\n",
            "Epoch 40\n",
            "Train: Loss = 0.084\n",
            "Valid: Loss = 0.09533\n",
            "\n",
            "Epoch 50\n",
            "Train: Loss = 0.0821\n",
            "Valid: Loss = 0.09707\n",
            "\n",
            "Epoch 60\n",
            "Train: Loss = 0.08112\n",
            "Valid: Loss = 0.08923\n",
            "\n",
            "Epoch 70\n",
            "Train: Loss = 0.08029\n",
            "Valid: Loss = 0.08954\n",
            "\n",
            "Epoch 80\n",
            "Train: Loss = 0.07903\n",
            "Valid: Loss = 0.08947\n",
            "\n",
            "Epoch 90\n",
            "Train: Loss = 0.07797\n",
            "Valid: Loss = 0.09016\n",
            "\n",
            "Epoch 100\n",
            "Train: Loss = 0.077\n",
            "Valid: Loss = 0.09009\n",
            "\n",
            "Epoch 110\n",
            "Train: Loss = 0.07649\n",
            "Valid: Loss = 0.0881\n",
            "\n",
            "Epoch 120\n",
            "Train: Loss = 0.07592\n",
            "Valid: Loss = 0.08591\n",
            "\n",
            "Epoch 130\n",
            "Train: Loss = 0.07516\n",
            "Valid: Loss = 0.08612\n",
            "\n",
            "Epoch 140\n",
            "Train: Loss = 0.07471\n",
            "Valid: Loss = 0.0872\n",
            "\n",
            "Epoch 150\n",
            "Train: Loss = 0.07422\n",
            "Valid: Loss = 0.08923\n",
            "\n",
            "Epoch 160\n",
            "Train: Loss = 0.07396\n",
            "Valid: Loss = 0.08881\n",
            "\n",
            "Epoch 170\n",
            "Train: Loss = 0.07286\n",
            "Valid: Loss = 0.08591\n",
            "\n",
            "Epoch 180\n",
            "Train: Loss = 0.07258\n",
            "Valid: Loss = 0.08643\n",
            "\n",
            "Epoch 190\n",
            "Train: Loss = 0.07252\n",
            "Valid: Loss = 0.08367\n",
            "\n",
            "Epoch 200\n",
            "Train: Loss = 0.07202\n",
            "Valid: Loss = 0.08485\n",
            "\n",
            "Epoch 210\n",
            "Train: Loss = 0.07204\n",
            "Valid: Loss = 0.08497\n",
            "\n",
            "Epoch 220\n",
            "Train: Loss = 0.07129\n",
            "Valid: Loss = 0.08343\n",
            "\n",
            "Epoch 230\n",
            "Train: Loss = 0.07093\n",
            "Valid: Loss = 0.08401\n",
            "\n",
            "Epoch 240\n",
            "Train: Loss = 0.07106\n",
            "Valid: Loss = 0.08829\n",
            "\n",
            "Epoch 250\n",
            "Train: Loss = 0.07056\n",
            "Valid: Loss = 0.08439\n",
            "\n",
            "Epoch 260\n",
            "Train: Loss = 0.07005\n",
            "Valid: Loss = 0.08217\n",
            "\n",
            "Epoch 270\n",
            "Train: Loss = 0.0699\n",
            "Valid: Loss = 0.08536\n",
            "\n",
            "Epoch 280\n",
            "Train: Loss = 0.06998\n",
            "Valid: Loss = 0.08482\n",
            "\n",
            "Epoch 290\n",
            "Train: Loss = 0.06916\n",
            "Valid: Loss = 0.08354\n",
            "\n"
          ]
        }
      ]
    },
    {
      "cell_type": "code",
      "source": [
        "!mkdir /content/comparision"
      ],
      "metadata": {
        "id": "4VXy-aRFj4Ys"
      },
      "execution_count": null,
      "outputs": []
    },
    {
      "cell_type": "markdown",
      "source": [
        "**Initilizing and then Training model for each Optimizer.**"
      ],
      "metadata": {
        "id": "NrGT6e4deSgN"
      }
    },
    {
      "cell_type": "code",
      "source": [
        "optim = 'adam'\n",
        "\n",
        "torch.save(torch.tensor(loss_train_hist), f'/content/comparision/{optim}-loss-train.pt')\n",
        "torch.save(torch.tensor(loss_valid_hist), f'/content/comparision/{optim}-loss-valid.pt')"
      ],
      "metadata": {
        "id": "yocSF2Smj_Eg"
      },
      "execution_count": null,
      "outputs": []
    },
    {
      "cell_type": "code",
      "source": [
        "optim = 'sgd'\n",
        "\n",
        "torch.save(torch.tensor(loss_train_hist), f'/content/comparision/{optim}-loss-train.pt')\n",
        "torch.save(torch.tensor(loss_valid_hist), f'/content/comparision/{optim}-loss-valid.pt')"
      ],
      "metadata": {
        "id": "BnmB1hAeeMYb"
      },
      "execution_count": null,
      "outputs": []
    },
    {
      "cell_type": "code",
      "source": [
        "optim = 'sgd-m'\n",
        "\n",
        "torch.save(torch.tensor(loss_train_hist), f'/content/comparision/{optim}-loss-train.pt')\n",
        "torch.save(torch.tensor(loss_valid_hist), f'/content/comparision/{optim}-loss-valid.pt')"
      ],
      "metadata": {
        "id": "OJBYWpoJe5KP"
      },
      "execution_count": null,
      "outputs": []
    },
    {
      "cell_type": "code",
      "source": [
        "optim = 'sgd-nest'\n",
        "\n",
        "torch.save(torch.tensor(loss_train_hist), f'/content/comparision/{optim}-loss-train.pt')\n",
        "torch.save(torch.tensor(loss_valid_hist), f'/content/comparision/{optim}-loss-valid.pt')"
      ],
      "metadata": {
        "id": "11-A5bg3fAv-"
      },
      "execution_count": null,
      "outputs": []
    },
    {
      "cell_type": "code",
      "source": [
        "optim = 'rms'\n",
        "\n",
        "torch.save(torch.tensor(loss_train_hist), f'/content/comparision/{optim}-loss-train.pt')\n",
        "torch.save(torch.tensor(loss_valid_hist), f'/content/comparision/{optim}-loss-valid.pt')"
      ],
      "metadata": {
        "id": "zomnIuH-fUiD"
      },
      "execution_count": null,
      "outputs": []
    },
    {
      "cell_type": "markdown",
      "source": [
        "# **Comparison🔎**"
      ],
      "metadata": {
        "id": "Chajg8gmDnHh"
      }
    },
    {
      "cell_type": "markdown",
      "source": [
        "## Plot"
      ],
      "metadata": {
        "id": "QUMvtEvmEgMU"
      }
    },
    {
      "cell_type": "code",
      "source": [
        "def plot_lcs(x:str, y:str):\n",
        "  plt.figure(figsize=(8, 6))\n",
        "  #\n",
        "  for optim in ['sgd', 'sgd-m', 'sgd-nest', 'rms', 'adam']:\n",
        "    z = torch.load(f'/content/comparision/{optim}-{x}-{y}.pt')\n",
        "    #\n",
        "    plt.plot(range(num_epochs), z, label=optim)\n",
        "    plt.xlabel('epoch')\n",
        "    plt.ylabel(f'{x} {y}')\n",
        "    plt.grid(True)\n",
        "    plt.legend()"
      ],
      "metadata": {
        "id": "xZ2W4wspDqco"
      },
      "execution_count": null,
      "outputs": []
    },
    {
      "cell_type": "code",
      "source": [
        "plot_lcs('loss', 'train')\n",
        "plot_lcs('loss', 'valid')"
      ],
      "metadata": {
        "id": "NPssQ3Q-EUT0",
        "colab": {
          "base_uri": "https://localhost:8080/",
          "height": 1000
        },
        "outputId": "2e24b3eb-3368-4820-a839-a3120a6fac58"
      },
      "execution_count": null,
      "outputs": [
        {
          "output_type": "display_data",
          "data": {
            "text/plain": [
              "<Figure size 800x600 with 1 Axes>"
            ],
            "image/png": "[encoded data removed]"
          },
          "metadata": {}
        },
        {
          "output_type": "display_data",
          "data": {
            "text/plain": [
              "<Figure size 800x600 with 1 Axes>"
            ],
            "image/png": "[encoded data removed]"
          },
          "metadata": {}
        }
      ]
    },
    {
      "cell_type": "markdown",
      "source": [
        "## R2 score"
      ],
      "metadata": {
        "id": "T3Dx-IT0E8ev"
      }
    },
    {
      "cell_type": "markdown",
      "source": [
        "**R2 Scores for each Loss Function**"
      ],
      "metadata": {
        "id": "9jA5FrahD3dH"
      }
    },
    {
      "cell_type": "code",
      "source": [
        "yp_total = []\n",
        "yt_total = []\n",
        "\n",
        "with torch.no_grad():\n",
        "  for inputs, targets in test_loader:\n",
        "    inputs = inputs.to(device)\n",
        "    targets = targets.to(device)\n",
        "    yp = model(inputs)\n",
        "    yp_total.append(yp.squeeze().cpu())\n",
        "    yt_total.append(targets.cpu())\n",
        "\n",
        "\n",
        "yp_total = torch.cat(yp_total)\n",
        "yt_total = torch.cat(yt_total)\n",
        "\n",
        "r2_score(yt_total, yp_total)"
      ],
      "metadata": {
        "id": "AsWOYV-hkG9i"
      },
      "execution_count": null,
      "outputs": []
    },
    {
      "cell_type": "markdown",
      "source": [
        "Loss     | MSELoss  | N1Loss  | HuberLoss | AdaptiveLoss\n",
        "---------|----------|---------|-----------|-------------  \n",
        "R2 score | 0.8072   | 0.8031  | 0.7958    | 0.8061"
      ],
      "metadata": {
        "id": "JIHBxNeQGyG3"
      }
    }
  ]
}